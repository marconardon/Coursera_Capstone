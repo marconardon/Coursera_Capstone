{
 "cells": [
  {
   "cell_type": "markdown",
   "metadata": {},
   "source": [
    "# Clustering Toronto Neighbohoods\n",
    "\n",
    "Assignment for the __Applied Data Capstone Project__\n",
    "\n",
    "_by Marco N_\n",
    "\n",
    "------"
   ]
  },
  {
   "cell_type": "markdown",
   "metadata": {},
   "source": [
    "## Notebook contents\n",
    "\n",
    "1. <a href=\"#Part-1\">Part 1</a>: Building the Neighborhood DataFrame\n",
    "\n",
    "2. <a href=\"#Part-2\">Part 2</a>: Adding geo-coordinates\n",
    "\n",
    "3. <a href=\"#Part-3\">Part 3</a>: Clustering and Visualizing the Neighborhoods\n",
    "\n",
    "-----"
   ]
  },
  {
   "cell_type": "markdown",
   "metadata": {},
   "source": [
    "## Part 1\n",
    "\n",
    "### Building the Neighborhood DataFrame\n",
    "\n",
    "We'll be using Pandas' native __read_html__ functionality to download the Wikipedia table into a DataFrame"
   ]
  },
  {
   "cell_type": "code",
   "execution_count": 1,
   "metadata": {},
   "outputs": [],
   "source": [
    "#!pip3 install lxml # Html parser\n",
    "import pandas as pd\n",
    "pd.set_option('display.max_columns', None)\n",
    "import numpy as np"
   ]
  },
  {
   "cell_type": "code",
   "execution_count": 2,
   "metadata": {},
   "outputs": [],
   "source": [
    "dfs = pd.read_html('https://en.wikipedia.org/wiki/List_of_postal_codes_of_Canada:_M')"
   ]
  },
  {
   "cell_type": "code",
   "execution_count": 3,
   "metadata": {},
   "outputs": [
    {
     "data": {
      "text/html": [
       "<div>\n",
       "<style scoped>\n",
       "    .dataframe tbody tr th:only-of-type {\n",
       "        vertical-align: middle;\n",
       "    }\n",
       "\n",
       "    .dataframe tbody tr th {\n",
       "        vertical-align: top;\n",
       "    }\n",
       "\n",
       "    .dataframe thead th {\n",
       "        text-align: right;\n",
       "    }\n",
       "</style>\n",
       "<table border=\"1\" class=\"dataframe\">\n",
       "  <thead>\n",
       "    <tr style=\"text-align: right;\">\n",
       "      <th></th>\n",
       "      <th>Postal code</th>\n",
       "      <th>Borough</th>\n",
       "      <th>Neighborhood</th>\n",
       "    </tr>\n",
       "  </thead>\n",
       "  <tbody>\n",
       "    <tr>\n",
       "      <th>0</th>\n",
       "      <td>M1A</td>\n",
       "      <td>Not assigned</td>\n",
       "      <td>NaN</td>\n",
       "    </tr>\n",
       "    <tr>\n",
       "      <th>1</th>\n",
       "      <td>M2A</td>\n",
       "      <td>Not assigned</td>\n",
       "      <td>NaN</td>\n",
       "    </tr>\n",
       "    <tr>\n",
       "      <th>2</th>\n",
       "      <td>M3A</td>\n",
       "      <td>North York</td>\n",
       "      <td>Parkwoods</td>\n",
       "    </tr>\n",
       "    <tr>\n",
       "      <th>3</th>\n",
       "      <td>M4A</td>\n",
       "      <td>North York</td>\n",
       "      <td>Victoria Village</td>\n",
       "    </tr>\n",
       "    <tr>\n",
       "      <th>4</th>\n",
       "      <td>M5A</td>\n",
       "      <td>Downtown Toronto</td>\n",
       "      <td>Regent Park / Harbourfront</td>\n",
       "    </tr>\n",
       "  </tbody>\n",
       "</table>\n",
       "</div>"
      ],
      "text/plain": [
       "  Postal code           Borough                Neighborhood\n",
       "0         M1A      Not assigned                         NaN\n",
       "1         M2A      Not assigned                         NaN\n",
       "2         M3A        North York                   Parkwoods\n",
       "3         M4A        North York            Victoria Village\n",
       "4         M5A  Downtown Toronto  Regent Park / Harbourfront"
      ]
     },
     "execution_count": 3,
     "metadata": {},
     "output_type": "execute_result"
    }
   ],
   "source": [
    "df = dfs[0].copy() # The output of read_html is a list, so we'll be selecting the first item as our df\n",
    "df.head()"
   ]
  },
  {
   "cell_type": "markdown",
   "metadata": {},
   "source": [
    "### Cleaning the DataFrame\n",
    "\n",
    "Now we'll begin the __data wrangling__ phase and come up with the requested df"
   ]
  },
  {
   "cell_type": "code",
   "execution_count": 4,
   "metadata": {},
   "outputs": [
    {
     "data": {
      "text/html": [
       "<div>\n",
       "<style scoped>\n",
       "    .dataframe tbody tr th:only-of-type {\n",
       "        vertical-align: middle;\n",
       "    }\n",
       "\n",
       "    .dataframe tbody tr th {\n",
       "        vertical-align: top;\n",
       "    }\n",
       "\n",
       "    .dataframe thead th {\n",
       "        text-align: right;\n",
       "    }\n",
       "</style>\n",
       "<table border=\"1\" class=\"dataframe\">\n",
       "  <thead>\n",
       "    <tr style=\"text-align: right;\">\n",
       "      <th></th>\n",
       "      <th>Postal code</th>\n",
       "      <th>Borough</th>\n",
       "      <th>Neighborhood</th>\n",
       "    </tr>\n",
       "  </thead>\n",
       "  <tbody>\n",
       "    <tr>\n",
       "      <th>0</th>\n",
       "      <td>M3A</td>\n",
       "      <td>North York</td>\n",
       "      <td>Parkwoods</td>\n",
       "    </tr>\n",
       "    <tr>\n",
       "      <th>1</th>\n",
       "      <td>M4A</td>\n",
       "      <td>North York</td>\n",
       "      <td>Victoria Village</td>\n",
       "    </tr>\n",
       "    <tr>\n",
       "      <th>2</th>\n",
       "      <td>M5A</td>\n",
       "      <td>Downtown Toronto</td>\n",
       "      <td>Regent Park, Harbourfront</td>\n",
       "    </tr>\n",
       "    <tr>\n",
       "      <th>3</th>\n",
       "      <td>M6A</td>\n",
       "      <td>North York</td>\n",
       "      <td>Lawrence Manor, Lawrence Heights</td>\n",
       "    </tr>\n",
       "    <tr>\n",
       "      <th>4</th>\n",
       "      <td>M7A</td>\n",
       "      <td>Downtown Toronto</td>\n",
       "      <td>Queen's Park, Ontario Provincial Government</td>\n",
       "    </tr>\n",
       "    <tr>\n",
       "      <th>...</th>\n",
       "      <td>...</td>\n",
       "      <td>...</td>\n",
       "      <td>...</td>\n",
       "    </tr>\n",
       "    <tr>\n",
       "      <th>98</th>\n",
       "      <td>M8X</td>\n",
       "      <td>Etobicoke</td>\n",
       "      <td>The Kingsway, Montgomery Road, Old Mill North</td>\n",
       "    </tr>\n",
       "    <tr>\n",
       "      <th>99</th>\n",
       "      <td>M4Y</td>\n",
       "      <td>Downtown Toronto</td>\n",
       "      <td>Church and Wellesley</td>\n",
       "    </tr>\n",
       "    <tr>\n",
       "      <th>100</th>\n",
       "      <td>M7Y</td>\n",
       "      <td>East Toronto</td>\n",
       "      <td>Business reply mail Processing CentrE</td>\n",
       "    </tr>\n",
       "    <tr>\n",
       "      <th>101</th>\n",
       "      <td>M8Y</td>\n",
       "      <td>Etobicoke</td>\n",
       "      <td>Old Mill South, King's Mill Park, Sunnylea, Hu...</td>\n",
       "    </tr>\n",
       "    <tr>\n",
       "      <th>102</th>\n",
       "      <td>M8Z</td>\n",
       "      <td>Etobicoke</td>\n",
       "      <td>Mimico NW, The Queensway West, South of Bloor,...</td>\n",
       "    </tr>\n",
       "  </tbody>\n",
       "</table>\n",
       "<p>103 rows × 3 columns</p>\n",
       "</div>"
      ],
      "text/plain": [
       "    Postal code           Borough  \\\n",
       "0           M3A        North York   \n",
       "1           M4A        North York   \n",
       "2           M5A  Downtown Toronto   \n",
       "3           M6A        North York   \n",
       "4           M7A  Downtown Toronto   \n",
       "..          ...               ...   \n",
       "98          M8X         Etobicoke   \n",
       "99          M4Y  Downtown Toronto   \n",
       "100         M7Y      East Toronto   \n",
       "101         M8Y         Etobicoke   \n",
       "102         M8Z         Etobicoke   \n",
       "\n",
       "                                          Neighborhood  \n",
       "0                                            Parkwoods  \n",
       "1                                     Victoria Village  \n",
       "2                            Regent Park, Harbourfront  \n",
       "3                     Lawrence Manor, Lawrence Heights  \n",
       "4          Queen's Park, Ontario Provincial Government  \n",
       "..                                                 ...  \n",
       "98       The Kingsway, Montgomery Road, Old Mill North  \n",
       "99                                Church and Wellesley  \n",
       "100              Business reply mail Processing CentrE  \n",
       "101  Old Mill South, King's Mill Park, Sunnylea, Hu...  \n",
       "102  Mimico NW, The Queensway West, South of Bloor,...  \n",
       "\n",
       "[103 rows x 3 columns]"
      ]
     },
     "execution_count": 4,
     "metadata": {},
     "output_type": "execute_result"
    }
   ],
   "source": [
    "df.drop(df[df['Borough'] == 'Not assigned'].index.values, inplace=True) # Dropping rows with a borough that is Not assigned\n",
    "\n",
    "df['Neighborhood'] = df['Neighborhood'].str.replace(' / ', ', ') # Replacing the default '/' notation with commas as requested by the assignment\n",
    "\n",
    "df.reset_index(drop=True, inplace=True) # Resetting the index for convenience\n",
    "\n",
    "df"
   ]
  },
  {
   "cell_type": "code",
   "execution_count": 5,
   "metadata": {},
   "outputs": [
    {
     "data": {
      "text/plain": [
       "(103, 3)"
      ]
     },
     "execution_count": 5,
     "metadata": {},
     "output_type": "execute_result"
    }
   ],
   "source": [
    "df.shape"
   ]
  },
  {
   "cell_type": "markdown",
   "metadata": {},
   "source": [
    "------"
   ]
  },
  {
   "cell_type": "markdown",
   "metadata": {},
   "source": [
    "## Part 2\n",
    "\n",
    "### Adding geo-coordinates\n",
    "\n",
    "We'll be using the __Geocoder__ package to get the latitude and the longitude coordinates of each neighborhood."
   ]
  },
  {
   "cell_type": "code",
   "execution_count": 8,
   "metadata": {},
   "outputs": [],
   "source": [
    "#!pip3 install geocoder\n",
    "import geocoder"
   ]
  },
  {
   "cell_type": "markdown",
   "metadata": {},
   "source": [
    "After some tests, I found the __Arcgis__ provider is the most reliable one, so we'll be using it instead of Google"
   ]
  },
  {
   "cell_type": "code",
   "execution_count": 43,
   "metadata": {},
   "outputs": [
    {
     "name": "stdout",
     "output_type": "stream",
     "text": [
      "Latitude: [43.65096410900003, -79.35304116399999]\n",
      "Longitude: [43.65096410900003, -79.35304116399999]\n"
     ]
    }
   ],
   "source": [
    "g = geocoder.arcgis('M5A, Canada')\n",
    "\n",
    "print('Latitude:', g.latlng)\n",
    "print('Longitude:', g.latlng)"
   ]
  },
  {
   "cell_type": "markdown",
   "metadata": {},
   "source": [
    "We'll setup a __for loop__ to populate two new __Latitude__ and __Longitude__ lists"
   ]
  },
  {
   "cell_type": "code",
   "execution_count": null,
   "metadata": {},
   "outputs": [],
   "source": [
    "# Initialize the two empty lists\n",
    "lat = []\n",
    "long = [] \n",
    "\n",
    "# Populate the lists with the geocoded latitudes and longitudes\n",
    "for row in df.index.values:\n",
    "    g = geocoder.arcgis('{}, Canada'.format(df.loc[row,'Postal code']))\n",
    "    lat.append(g.latlng[0])\n",
    "    long.append(g.latlng[1])"
   ]
  },
  {
   "cell_type": "code",
   "execution_count": 67,
   "metadata": {},
   "outputs": [
    {
     "name": "stdout",
     "output_type": "stream",
     "text": [
      "Ok, we fetched the coordinates for each of the 103 postal codes\n"
     ]
    }
   ],
   "source": [
    "# Check if the geocoder has fetched the coordinates for each postal code\n",
    "\n",
    "if df.shape[0] == len(lat) == len(long):\n",
    "    print('Ok, we fetched the coordinates for each of the {} postal codes'.format(df.shape[0]))\n",
    "else :\n",
    "    print('Oops, something went wrong. df contains {} rows, lat contains {} items and long contains {} items'.format(df.shape[0], len(lat), len(long)))\n",
    "    "
   ]
  },
  {
   "cell_type": "markdown",
   "metadata": {},
   "source": [
    "Now we may use the two lists to populate the two new DataFrame columns"
   ]
  },
  {
   "cell_type": "code",
   "execution_count": 68,
   "metadata": {},
   "outputs": [
    {
     "data": {
      "text/html": [
       "<div>\n",
       "<style scoped>\n",
       "    .dataframe tbody tr th:only-of-type {\n",
       "        vertical-align: middle;\n",
       "    }\n",
       "\n",
       "    .dataframe tbody tr th {\n",
       "        vertical-align: top;\n",
       "    }\n",
       "\n",
       "    .dataframe thead th {\n",
       "        text-align: right;\n",
       "    }\n",
       "</style>\n",
       "<table border=\"1\" class=\"dataframe\">\n",
       "  <thead>\n",
       "    <tr style=\"text-align: right;\">\n",
       "      <th></th>\n",
       "      <th>Postal code</th>\n",
       "      <th>Borough</th>\n",
       "      <th>Neighborhood</th>\n",
       "      <th>Latitude</th>\n",
       "      <th>Longitude</th>\n",
       "    </tr>\n",
       "  </thead>\n",
       "  <tbody>\n",
       "    <tr>\n",
       "      <th>0</th>\n",
       "      <td>M3A</td>\n",
       "      <td>North York</td>\n",
       "      <td>Parkwoods</td>\n",
       "      <td>43.752935</td>\n",
       "      <td>-79.335641</td>\n",
       "    </tr>\n",
       "    <tr>\n",
       "      <th>1</th>\n",
       "      <td>M4A</td>\n",
       "      <td>North York</td>\n",
       "      <td>Victoria Village</td>\n",
       "      <td>43.728102</td>\n",
       "      <td>-79.311890</td>\n",
       "    </tr>\n",
       "    <tr>\n",
       "      <th>2</th>\n",
       "      <td>M5A</td>\n",
       "      <td>Downtown Toronto</td>\n",
       "      <td>Regent Park, Harbourfront</td>\n",
       "      <td>43.650964</td>\n",
       "      <td>-79.353041</td>\n",
       "    </tr>\n",
       "    <tr>\n",
       "      <th>3</th>\n",
       "      <td>M6A</td>\n",
       "      <td>North York</td>\n",
       "      <td>Lawrence Manor, Lawrence Heights</td>\n",
       "      <td>43.723265</td>\n",
       "      <td>-79.451211</td>\n",
       "    </tr>\n",
       "    <tr>\n",
       "      <th>4</th>\n",
       "      <td>M7A</td>\n",
       "      <td>Downtown Toronto</td>\n",
       "      <td>Queen's Park, Ontario Provincial Government</td>\n",
       "      <td>43.661790</td>\n",
       "      <td>-79.389390</td>\n",
       "    </tr>\n",
       "  </tbody>\n",
       "</table>\n",
       "</div>"
      ],
      "text/plain": [
       "  Postal code           Borough                                 Neighborhood  \\\n",
       "0         M3A        North York                                    Parkwoods   \n",
       "1         M4A        North York                             Victoria Village   \n",
       "2         M5A  Downtown Toronto                    Regent Park, Harbourfront   \n",
       "3         M6A        North York             Lawrence Manor, Lawrence Heights   \n",
       "4         M7A  Downtown Toronto  Queen's Park, Ontario Provincial Government   \n",
       "\n",
       "    Latitude  Longitude  \n",
       "0  43.752935 -79.335641  \n",
       "1  43.728102 -79.311890  \n",
       "2  43.650964 -79.353041  \n",
       "3  43.723265 -79.451211  \n",
       "4  43.661790 -79.389390  "
      ]
     },
     "execution_count": 68,
     "metadata": {},
     "output_type": "execute_result"
    }
   ],
   "source": [
    "df['Latitude'] = lat\n",
    "df['Longitude'] = long\n",
    "df.head()"
   ]
  },
  {
   "cell_type": "markdown",
   "metadata": {},
   "source": [
    "-----"
   ]
  },
  {
   "cell_type": "markdown",
   "metadata": {},
   "source": [
    "## Part 3\n",
    "\n",
    "### Clustering the neighborhoods\n",
    "\n",
    "Each neighborhood belongs to only one borough, so the __boroughs__ will be our __clusters__.\n",
    "\n",
    "Since the boroughs are represented by a categorical feature, we can use the __label encoding__ technique to transform it to a numerical feature."
   ]
  },
  {
   "cell_type": "code",
   "execution_count": 82,
   "metadata": {},
   "outputs": [
    {
     "data": {
      "text/html": [
       "<div>\n",
       "<style scoped>\n",
       "    .dataframe tbody tr th:only-of-type {\n",
       "        vertical-align: middle;\n",
       "    }\n",
       "\n",
       "    .dataframe tbody tr th {\n",
       "        vertical-align: top;\n",
       "    }\n",
       "\n",
       "    .dataframe thead th {\n",
       "        text-align: right;\n",
       "    }\n",
       "</style>\n",
       "<table border=\"1\" class=\"dataframe\">\n",
       "  <thead>\n",
       "    <tr style=\"text-align: right;\">\n",
       "      <th></th>\n",
       "      <th>Postal code</th>\n",
       "      <th>Borough</th>\n",
       "      <th>Neighborhood</th>\n",
       "      <th>Latitude</th>\n",
       "      <th>Longitude</th>\n",
       "      <th>Borough_num</th>\n",
       "    </tr>\n",
       "  </thead>\n",
       "  <tbody>\n",
       "    <tr>\n",
       "      <th>0</th>\n",
       "      <td>M3A</td>\n",
       "      <td>North York</td>\n",
       "      <td>Parkwoods</td>\n",
       "      <td>43.752935</td>\n",
       "      <td>-79.335641</td>\n",
       "      <td>6</td>\n",
       "    </tr>\n",
       "    <tr>\n",
       "      <th>1</th>\n",
       "      <td>M4A</td>\n",
       "      <td>North York</td>\n",
       "      <td>Victoria Village</td>\n",
       "      <td>43.728102</td>\n",
       "      <td>-79.311890</td>\n",
       "      <td>6</td>\n",
       "    </tr>\n",
       "    <tr>\n",
       "      <th>2</th>\n",
       "      <td>M5A</td>\n",
       "      <td>Downtown Toronto</td>\n",
       "      <td>Regent Park, Harbourfront</td>\n",
       "      <td>43.650964</td>\n",
       "      <td>-79.353041</td>\n",
       "      <td>1</td>\n",
       "    </tr>\n",
       "    <tr>\n",
       "      <th>3</th>\n",
       "      <td>M6A</td>\n",
       "      <td>North York</td>\n",
       "      <td>Lawrence Manor, Lawrence Heights</td>\n",
       "      <td>43.723265</td>\n",
       "      <td>-79.451211</td>\n",
       "      <td>6</td>\n",
       "    </tr>\n",
       "    <tr>\n",
       "      <th>4</th>\n",
       "      <td>M7A</td>\n",
       "      <td>Downtown Toronto</td>\n",
       "      <td>Queen's Park, Ontario Provincial Government</td>\n",
       "      <td>43.661790</td>\n",
       "      <td>-79.389390</td>\n",
       "      <td>1</td>\n",
       "    </tr>\n",
       "    <tr>\n",
       "      <th>...</th>\n",
       "      <td>...</td>\n",
       "      <td>...</td>\n",
       "      <td>...</td>\n",
       "      <td>...</td>\n",
       "      <td>...</td>\n",
       "      <td>...</td>\n",
       "    </tr>\n",
       "    <tr>\n",
       "      <th>98</th>\n",
       "      <td>M8X</td>\n",
       "      <td>Etobicoke</td>\n",
       "      <td>The Kingsway, Montgomery Road, Old Mill North</td>\n",
       "      <td>43.653340</td>\n",
       "      <td>-79.509766</td>\n",
       "      <td>4</td>\n",
       "    </tr>\n",
       "    <tr>\n",
       "      <th>99</th>\n",
       "      <td>M4Y</td>\n",
       "      <td>Downtown Toronto</td>\n",
       "      <td>Church and Wellesley</td>\n",
       "      <td>43.666659</td>\n",
       "      <td>-79.381472</td>\n",
       "      <td>1</td>\n",
       "    </tr>\n",
       "    <tr>\n",
       "      <th>100</th>\n",
       "      <td>M7Y</td>\n",
       "      <td>East Toronto</td>\n",
       "      <td>Business reply mail Processing CentrE</td>\n",
       "      <td>43.648700</td>\n",
       "      <td>-79.385450</td>\n",
       "      <td>2</td>\n",
       "    </tr>\n",
       "    <tr>\n",
       "      <th>101</th>\n",
       "      <td>M8Y</td>\n",
       "      <td>Etobicoke</td>\n",
       "      <td>Old Mill South, King's Mill Park, Sunnylea, Hu...</td>\n",
       "      <td>43.632798</td>\n",
       "      <td>-79.493017</td>\n",
       "      <td>4</td>\n",
       "    </tr>\n",
       "    <tr>\n",
       "      <th>102</th>\n",
       "      <td>M8Z</td>\n",
       "      <td>Etobicoke</td>\n",
       "      <td>Mimico NW, The Queensway West, South of Bloor,...</td>\n",
       "      <td>43.625490</td>\n",
       "      <td>-79.526000</td>\n",
       "      <td>4</td>\n",
       "    </tr>\n",
       "  </tbody>\n",
       "</table>\n",
       "<p>103 rows × 6 columns</p>\n",
       "</div>"
      ],
      "text/plain": [
       "    Postal code           Borough  \\\n",
       "0           M3A        North York   \n",
       "1           M4A        North York   \n",
       "2           M5A  Downtown Toronto   \n",
       "3           M6A        North York   \n",
       "4           M7A  Downtown Toronto   \n",
       "..          ...               ...   \n",
       "98          M8X         Etobicoke   \n",
       "99          M4Y  Downtown Toronto   \n",
       "100         M7Y      East Toronto   \n",
       "101         M8Y         Etobicoke   \n",
       "102         M8Z         Etobicoke   \n",
       "\n",
       "                                          Neighborhood   Latitude  Longitude  \\\n",
       "0                                            Parkwoods  43.752935 -79.335641   \n",
       "1                                     Victoria Village  43.728102 -79.311890   \n",
       "2                            Regent Park, Harbourfront  43.650964 -79.353041   \n",
       "3                     Lawrence Manor, Lawrence Heights  43.723265 -79.451211   \n",
       "4          Queen's Park, Ontario Provincial Government  43.661790 -79.389390   \n",
       "..                                                 ...        ...        ...   \n",
       "98       The Kingsway, Montgomery Road, Old Mill North  43.653340 -79.509766   \n",
       "99                                Church and Wellesley  43.666659 -79.381472   \n",
       "100              Business reply mail Processing CentrE  43.648700 -79.385450   \n",
       "101  Old Mill South, King's Mill Park, Sunnylea, Hu...  43.632798 -79.493017   \n",
       "102  Mimico NW, The Queensway West, South of Bloor,...  43.625490 -79.526000   \n",
       "\n",
       "     Borough_num  \n",
       "0              6  \n",
       "1              6  \n",
       "2              1  \n",
       "3              6  \n",
       "4              1  \n",
       "..           ...  \n",
       "98             4  \n",
       "99             1  \n",
       "100            2  \n",
       "101            4  \n",
       "102            4  \n",
       "\n",
       "[103 rows x 6 columns]"
      ]
     },
     "execution_count": 82,
     "metadata": {},
     "output_type": "execute_result"
    }
   ],
   "source": [
    "df[\"Borough_num\"] = df[\"Borough\"].astype('category') # Create a new column Borough_num as a categorical feature\n",
    "\n",
    "df[\"Borough_num\"] = df[\"Borough_num\"].cat.codes # Convert the new categorical feature to a numerical one\n",
    "\n",
    "df"
   ]
  },
  {
   "cell_type": "markdown",
   "metadata": {},
   "source": [
    "Let's use __matplotlib__ to build a color array to display each cluster with a different color"
   ]
  },
  {
   "cell_type": "code",
   "execution_count": 83,
   "metadata": {},
   "outputs": [],
   "source": [
    "import matplotlib.cm as cm\n",
    "import matplotlib.colors as colors\n",
    "\n",
    "borough_total = len(df['Borough'].unique()) # The total number of clusters\n",
    "\n",
    "# build the color array\n",
    "x = np.arange(borough_total)\n",
    "ys = [i + x + (i*x)**2 for i in range(borough_total)]\n",
    "colors_array = cm.rainbow(np.linspace(0, 1, len(ys)))\n",
    "rainbow = [colors.rgb2hex(i) for i in colors_array]"
   ]
  },
  {
   "cell_type": "markdown",
   "metadata": {},
   "source": [
    "### Visualizing the neighborhoods\n",
    "\n",
    "We can now visualize the neighborhood data on a map using the __Folium__ library."
   ]
  },
  {
   "cell_type": "code",
   "execution_count": 71,
   "metadata": {},
   "outputs": [],
   "source": [
    "import folium"
   ]
  },
  {
   "cell_type": "markdown",
   "metadata": {},
   "source": [
    "Getting the coordinates for the map center (the city of Toronto):"
   ]
  },
  {
   "cell_type": "code",
   "execution_count": 72,
   "metadata": {},
   "outputs": [],
   "source": [
    "g = geocoder.arcgis('Toronto, Canada')\n",
    "\n",
    "latitude = g.latlng[0]\n",
    "longitude = g.latlng[1]"
   ]
  },
  {
   "cell_type": "markdown",
   "metadata": {},
   "source": [
    "Building the map:"
   ]
  },
  {
   "cell_type": "code",
   "execution_count": 94,
   "metadata": {},
   "outputs": [
    {
     "data": {
      "text/html": [
       "<div style=\"width:100%;\"><div style=\"position:relative;width:100%;height:0;padding-bottom:60%;\"><iframe src=\"about:blank\" style=\"position:absolute;width:100%;height:100%;left:0;top:0;border:none !important;\" data-html=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 onload=\"this.contentDocument.open();this.contentDocument.write(atob(this.getAttribute('data-html')));this.contentDocument.close();\" allowfullscreen webkitallowfullscreen mozallowfullscreen></iframe></div></div>"
      ],
      "text/plain": [
       "<folium.folium.Map at 0x1186b9610>"
      ]
     },
     "execution_count": 94,
     "metadata": {},
     "output_type": "execute_result"
    }
   ],
   "source": [
    "toronto_map = folium.Map(location=[latitude, longitude], zoom_start=11)\n",
    "\n",
    "# adding markers\n",
    "for lat, lng, borough, neighborhood, bor_num in zip(df['Latitude'], df['Longitude'], df['Borough'], df['Neighborhood'], df['Borough_num']):\n",
    "    label = '{}, {}'.format(neighborhood, borough)\n",
    "    label = folium.Popup(label, parse_html=True)\n",
    "    folium.CircleMarker(\n",
    "        [lat, lng],\n",
    "        radius=5,\n",
    "        popup=label,\n",
    "        color=rainbow[bor_num], # Using the color array we built before to display each borough with a different color\n",
    "        fill=True,\n",
    "        fill_color=rainbow[bor_num],\n",
    "        fill_opacity=0.7,\n",
    "        parse_html=False).add_to(toronto_map) \n",
    "    \n",
    "toronto_map"
   ]
  },
  {
   "cell_type": "code",
   "execution_count": null,
   "metadata": {},
   "outputs": [],
   "source": []
  }
 ],
 "metadata": {
  "kernelspec": {
   "display_name": "Python 3",
   "language": "python",
   "name": "python3"
  },
  "language_info": {
   "codemirror_mode": {
    "name": "ipython",
    "version": 3
   },
   "file_extension": ".py",
   "mimetype": "text/x-python",
   "name": "python",
   "nbconvert_exporter": "python",
   "pygments_lexer": "ipython3",
   "version": "3.8.2"
  }
 },
 "nbformat": 4,
 "nbformat_minor": 4
}
